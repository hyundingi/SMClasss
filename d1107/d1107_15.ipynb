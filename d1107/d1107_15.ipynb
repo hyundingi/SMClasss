{
 "cells": [
  {
   "cell_type": "code",
   "execution_count": 74,
   "metadata": {},
   "outputs": [
    {
     "name": "stderr",
     "output_type": "stream",
     "text": [
      "c:\\python\\Lib\\site-packages\\openpyxl\\styles\\stylesheet.py:237: UserWarning: Workbook contains no default style, apply openpyxl's default\n",
      "  warn(\"Workbook contains no default style, apply openpyxl's default\")\n"
     ]
    },
    {
     "data": {
      "text/plain": [
       "0~4세         678,966\n",
       "5~9세       1,019,087\n",
       "10~14세     1,195,436\n",
       "15~19세     1,195,498\n",
       "20~24세     1,446,090\n",
       "25~29세     1,777,534\n",
       "30~34세     1,788,146\n",
       "35~39세     1,629,589\n",
       "40~44세     2,055,022\n",
       "45~49세     1,965,092\n",
       "50~54세     2,279,578\n",
       "55~59세     2,115,365\n",
       "60~64세     2,093,694\n",
       "65~69세     1,670,380\n",
       "70~74세     1,066,316\n",
       "75~79세       760,968\n",
       "80~84세       519,583\n",
       "85~89세       231,644\n",
       "90~94세        59,761\n",
       "95~99세         9,722\n",
       "100세 이상        1,473\n",
       "Name: 전국, dtype: object"
      ]
     },
     "execution_count": 74,
     "metadata": {},
     "output_type": "execute_result"
    }
   ],
   "source": [
    "import pandas as pd\n",
    "import numpy as np\n",
    "\n",
    "df = pd.read_excel('연령별인구현황01.xlsx', skiprows=3, nrows=1, usecols='B,E:Y', index_col=0)\n",
    "df.index\n",
    "df.loc['전국  '] \n",
    "\n",
    "## 빈공백 제거\n",
    "df.index[0].strip()\n",
    "\n",
    "## index 1번째 row 데이터를 출력\n",
    "df.loc[df.index[0]]   # == df.loc['전국  '] \n",
    "\n",
    "\n",
    "# index 이름을 변경\n",
    "df.rename(index={df.index[0]:df.index[0].strip()}, inplace=True)\n",
    "df.index\n",
    "\n",
    "df.loc['전국']\n"
   ]
  },
  {
   "cell_type": "code",
   "execution_count": 75,
   "metadata": {},
   "outputs": [
    {
     "name": "stdout",
     "output_type": "stream",
     "text": [
      "<class 'pandas.core.frame.DataFrame'>\n",
      "Index: 1 entries, 전국 to 전국\n",
      "Data columns (total 21 columns):\n",
      " #   Column   Non-Null Count  Dtype \n",
      "---  ------   --------------  ----- \n",
      " 0   0~4세     1 non-null      object\n",
      " 1   5~9세     1 non-null      object\n",
      " 2   10~14세   1 non-null      object\n",
      " 3   15~19세   1 non-null      object\n",
      " 4   20~24세   1 non-null      object\n",
      " 5   25~29세   1 non-null      object\n",
      " 6   30~34세   1 non-null      object\n",
      " 7   35~39세   1 non-null      object\n",
      " 8   40~44세   1 non-null      object\n",
      " 9   45~49세   1 non-null      object\n",
      " 10  50~54세   1 non-null      object\n",
      " 11  55~59세   1 non-null      object\n",
      " 12  60~64세   1 non-null      object\n",
      " 13  65~69세   1 non-null      object\n",
      " 14  70~74세   1 non-null      object\n",
      " 15  75~79세   1 non-null      object\n",
      " 16  80~84세   1 non-null      object\n",
      " 17  85~89세   1 non-null      object\n",
      " 18  90~94세   1 non-null      object\n",
      " 19  95~99세   1 non-null      object\n",
      " 20  100세 이상  1 non-null      object\n",
      "dtypes: object(21)\n",
      "memory usage: 284.0+ bytes\n"
     ]
    },
    {
     "data": {
      "text/plain": [
       "2279578"
      ]
     },
     "execution_count": 75,
     "metadata": {},
     "output_type": "execute_result"
    }
   ],
   "source": [
    "df.iloc[0] = df.iloc[0].str.replace(',','').astype(int)\n",
    "df.info()\n",
    "df = df.T\n",
    "df['전국'].describe()\n",
    "df['전국'].min()\n",
    "df['전국'].max()\n",
    "\n"
   ]
  }
 ],
 "metadata": {
  "kernelspec": {
   "display_name": "Python 3",
   "language": "python",
   "name": "python3"
  },
  "language_info": {
   "codemirror_mode": {
    "name": "ipython",
    "version": 3
   },
   "file_extension": ".py",
   "mimetype": "text/x-python",
   "name": "python",
   "nbconvert_exporter": "python",
   "pygments_lexer": "ipython3",
   "version": "3.12.6"
  }
 },
 "nbformat": 4,
 "nbformat_minor": 2
}
