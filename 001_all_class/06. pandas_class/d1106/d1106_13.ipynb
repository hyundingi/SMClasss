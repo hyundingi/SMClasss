{
 "cells": [
  {
   "cell_type": "markdown",
   "metadata": {},
   "source": [
    "졸음운전사고파일 \n",
    "3개 병합\n",
    "사고가 가장 많이 난 횟수 상위 5개 출력\n",
    "사망자 평균 출력"
   ]
  },
  {
   "cell_type": "code",
   "execution_count": 21,
   "metadata": {},
   "outputs": [
    {
     "data": {
      "text/plain": [
       "사고 상위 5    [273, 268, 252, 239, 237]\n",
       "사망자 평균                      9.333333\n",
       "dtype: object"
      ]
     },
     "execution_count": 21,
     "metadata": {},
     "output_type": "execute_result"
    }
   ],
   "source": [
    "import pandas as pd\n",
    "\n",
    "df1 = pd.read_csv('2014년졸음운전교통사고.csv', encoding='euc-kr')\n",
    "df2 = pd.read_csv('2015년졸음운전교통사고.csv', encoding='euc-kr')\n",
    "df3 = pd.read_csv('2016년졸음운전교통사고.csv', encoding='euc-kr')\n",
    "\n",
    "df123 = pd.concat([df1,df2,df3])\n",
    "df123['사고(건)'].nlargest()\n",
    "df123['사망(명)'].mean()\n",
    "df = pd.Series([df123['사고(건)'].nlargest().values, df123['사망(명)'].mean()], index=['사고 상위 5', '사망자 평균'])\n",
    "df"
   ]
  }
 ],
 "metadata": {
  "kernelspec": {
   "display_name": "Python 3",
   "language": "python",
   "name": "python3"
  },
  "language_info": {
   "codemirror_mode": {
    "name": "ipython",
    "version": 3
   },
   "file_extension": ".py",
   "mimetype": "text/x-python",
   "name": "python",
   "nbconvert_exporter": "python",
   "pygments_lexer": "ipython3",
   "version": "3.12.6"
  }
 },
 "nbformat": 4,
 "nbformat_minor": 2
}
