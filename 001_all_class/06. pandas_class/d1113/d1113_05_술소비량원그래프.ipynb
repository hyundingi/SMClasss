{
 "cells": [
  {
   "cell_type": "code",
   "execution_count": 2,
   "metadata": {},
   "outputs": [
    {
     "data": {
      "text/html": [
       "<div>\n",
       "<style scoped>\n",
       "    .dataframe tbody tr th:only-of-type {\n",
       "        vertical-align: middle;\n",
       "    }\n",
       "\n",
       "    .dataframe tbody tr th {\n",
       "        vertical-align: top;\n",
       "    }\n",
       "\n",
       "    .dataframe thead th {\n",
       "        text-align: right;\n",
       "    }\n",
       "</style>\n",
       "<table border=\"1\" class=\"dataframe\">\n",
       "  <thead>\n",
       "    <tr style=\"text-align: right;\">\n",
       "      <th></th>\n",
       "      <th>country</th>\n",
       "      <th>beer_servings</th>\n",
       "      <th>spirit_servings</th>\n",
       "      <th>wine_servings</th>\n",
       "      <th>total_litres_of_pure_alcohol</th>\n",
       "      <th>continent</th>\n",
       "    </tr>\n",
       "  </thead>\n",
       "  <tbody>\n",
       "    <tr>\n",
       "      <th>0</th>\n",
       "      <td>Afghanistan</td>\n",
       "      <td>0</td>\n",
       "      <td>0</td>\n",
       "      <td>0</td>\n",
       "      <td>0.0</td>\n",
       "      <td>AS</td>\n",
       "    </tr>\n",
       "    <tr>\n",
       "      <th>1</th>\n",
       "      <td>Albania</td>\n",
       "      <td>89</td>\n",
       "      <td>132</td>\n",
       "      <td>54</td>\n",
       "      <td>4.9</td>\n",
       "      <td>EU</td>\n",
       "    </tr>\n",
       "    <tr>\n",
       "      <th>2</th>\n",
       "      <td>Algeria</td>\n",
       "      <td>25</td>\n",
       "      <td>0</td>\n",
       "      <td>14</td>\n",
       "      <td>0.7</td>\n",
       "      <td>AF</td>\n",
       "    </tr>\n",
       "    <tr>\n",
       "      <th>3</th>\n",
       "      <td>Andorra</td>\n",
       "      <td>245</td>\n",
       "      <td>138</td>\n",
       "      <td>312</td>\n",
       "      <td>12.4</td>\n",
       "      <td>EU</td>\n",
       "    </tr>\n",
       "    <tr>\n",
       "      <th>4</th>\n",
       "      <td>Angola</td>\n",
       "      <td>217</td>\n",
       "      <td>57</td>\n",
       "      <td>45</td>\n",
       "      <td>5.9</td>\n",
       "      <td>AF</td>\n",
       "    </tr>\n",
       "    <tr>\n",
       "      <th>...</th>\n",
       "      <td>...</td>\n",
       "      <td>...</td>\n",
       "      <td>...</td>\n",
       "      <td>...</td>\n",
       "      <td>...</td>\n",
       "      <td>...</td>\n",
       "    </tr>\n",
       "    <tr>\n",
       "      <th>188</th>\n",
       "      <td>Venezuela</td>\n",
       "      <td>333</td>\n",
       "      <td>100</td>\n",
       "      <td>3</td>\n",
       "      <td>7.7</td>\n",
       "      <td>SA</td>\n",
       "    </tr>\n",
       "    <tr>\n",
       "      <th>189</th>\n",
       "      <td>Vietnam</td>\n",
       "      <td>111</td>\n",
       "      <td>2</td>\n",
       "      <td>1</td>\n",
       "      <td>2.0</td>\n",
       "      <td>AS</td>\n",
       "    </tr>\n",
       "    <tr>\n",
       "      <th>190</th>\n",
       "      <td>Yemen</td>\n",
       "      <td>6</td>\n",
       "      <td>0</td>\n",
       "      <td>0</td>\n",
       "      <td>0.1</td>\n",
       "      <td>AS</td>\n",
       "    </tr>\n",
       "    <tr>\n",
       "      <th>191</th>\n",
       "      <td>Zambia</td>\n",
       "      <td>32</td>\n",
       "      <td>19</td>\n",
       "      <td>4</td>\n",
       "      <td>2.5</td>\n",
       "      <td>AF</td>\n",
       "    </tr>\n",
       "    <tr>\n",
       "      <th>192</th>\n",
       "      <td>Zimbabwe</td>\n",
       "      <td>64</td>\n",
       "      <td>18</td>\n",
       "      <td>4</td>\n",
       "      <td>4.7</td>\n",
       "      <td>AF</td>\n",
       "    </tr>\n",
       "  </tbody>\n",
       "</table>\n",
       "<p>193 rows × 6 columns</p>\n",
       "</div>"
      ],
      "text/plain": [
       "         country  beer_servings  spirit_servings  wine_servings  \\\n",
       "0    Afghanistan              0                0              0   \n",
       "1        Albania             89              132             54   \n",
       "2        Algeria             25                0             14   \n",
       "3        Andorra            245              138            312   \n",
       "4         Angola            217               57             45   \n",
       "..           ...            ...              ...            ...   \n",
       "188    Venezuela            333              100              3   \n",
       "189      Vietnam            111                2              1   \n",
       "190        Yemen              6                0              0   \n",
       "191       Zambia             32               19              4   \n",
       "192     Zimbabwe             64               18              4   \n",
       "\n",
       "     total_litres_of_pure_alcohol continent  \n",
       "0                             0.0        AS  \n",
       "1                             4.9        EU  \n",
       "2                             0.7        AF  \n",
       "3                            12.4        EU  \n",
       "4                             5.9        AF  \n",
       "..                            ...       ...  \n",
       "188                           7.7        SA  \n",
       "189                           2.0        AS  \n",
       "190                           0.1        AS  \n",
       "191                           2.5        AF  \n",
       "192                           4.7        AF  \n",
       "\n",
       "[193 rows x 6 columns]"
      ]
     },
     "execution_count": 2,
     "metadata": {},
     "output_type": "execute_result"
    }
   ],
   "source": [
    "import pandas as pd\n",
    "import numpy as np\n",
    "import matplotlib.pyplot as plt\n",
    "# 한글설정\n",
    "import matplotlib\n",
    "# matplotlib.rcParams['font.family'] = 'AppleGothic' # mac용\n",
    "matplotlib.rcParams['font.family'] = 'Malgun Gothic' # win용\n",
    "matplotlib.rcParams['font.size'] = 15                # 글자 크기\n",
    "matplotlib.rcParams['axes.unicode_minus'] = False\n",
    "\n",
    "df = pd.read_excel('score.xlsx', index_col='지원번호')\n",
    "df = pd.read_csv('drinks.csv', sep=',')\n",
    "df"
   ]
  },
  {
   "cell_type": "code",
   "execution_count": 3,
   "metadata": {},
   "outputs": [
    {
     "data": {
      "image/png": "[encoded data removed]",
      "text/plain": [
       "<Figure size 640x480 with 1 Axes>"
      ]
     },
     "metadata": {},
     "output_type": "display_data"
    }
   ],
   "source": [
    "## total_servings 컬럼 추가\n",
    "## 대륙별 total_servings 원 그래프 출력\n",
    "\n",
    "# 대륙 빈 값 OT 넣기\n",
    "df['continent'] = df['continent'].fillna('OT')\n",
    "# 총 소비량 컬럼 추가\n",
    "df['total_servings'] = df['beer_servings']+df['spirit_servings']+df['wine_servings']\n",
    "# 대륙별 술 총소비량\n",
    "c_df = df.groupby('continent')['total_servings'].sum()\n",
    "df['continent'].unique()\n",
    "\n",
    "\n",
    "colors = ['y','g','peachpuff','bisque','plum','m']\n",
    "wedgeprops = {'width':0.6, 'edgecolor':'white', 'linewidth':2}\n",
    "\n",
    "\n",
    "plt.title('대륙별 술소비량')\n",
    "plt.pie(c_df, labels=c_df.index, colors=colors, autopct='%.1f%%', startangle=90, counterclock=False, \\\n",
    "        wedgeprops=wedgeprops, pctdistance=0.7)\n",
    "plt.legend(loc=(1.2,0.3))\n",
    "plt.show()\n",
    "\n",
    "\n",
    "\n",
    "\n"
   ]
  },
  {
   "cell_type": "code",
   "execution_count": 4,
   "metadata": {},
   "outputs": [
    {
     "data": {
      "text/plain": [
       "continent\n",
       "EU    8.617778\n",
       "OT    5.995652\n",
       "SA    6.308333\n",
       "Name: total_litres_of_pure_alcohol, dtype: float64"
      ]
     },
     "execution_count": 4,
     "metadata": {},
     "output_type": "execute_result"
    }
   ],
   "source": [
    "## 전체 평균보다 많은 알코올 도수를 섭취하는 대륙 출력\n",
    "\n",
    "\n",
    "# 1. 전체 알코올 도수 평균\n",
    "als_df = df['total_litres_of_pure_alcohol'].mean()\n",
    "\n",
    "# 2. 대륙별 알코올 도수의 평균\n",
    "al_df = df.groupby('continent')['total_litres_of_pure_alcohol'].mean()\n",
    "\n",
    "# 3. 필터\n",
    "filt = al_df > als_df\n",
    "\n",
    "# 4. 필터 적용해서 출력\n",
    "al_df[filt]\n"
   ]
  },
  {
   "cell_type": "code",
   "execution_count": 5,
   "metadata": {},
   "outputs": [
    {
     "data": {
      "text/plain": [
       "continent\n",
       "EU    193.777778\n",
       "Name: beer_servings, dtype: float64"
      ]
     },
     "execution_count": 5,
     "metadata": {},
     "output_type": "execute_result"
    }
   ],
   "source": [
    "# 평균보다 beer_servings이 가장 높은 대륙\n",
    "# 대륙별 beer_servings를 높은순으로 출력\n",
    "\n",
    "df.groupby('continent')['beer_servings'].mean().sort_values(ascending=False).head(1)\n",
    "\n",
    "\n"
   ]
  },
  {
   "cell_type": "code",
   "execution_count": 6,
   "metadata": {},
   "outputs": [
    {
     "data": {
      "image/png": "[encoded data removed]",
      "text/plain": [
       "<Figure size 640x480 with 1 Axes>"
      ]
     },
     "metadata": {},
     "output_type": "display_data"
    }
   ],
   "source": [
    "## 대륙별 알코올 도수 막대그래프 출력\n",
    "## 마지막은 평균 \n",
    "\n",
    "# 대륙별 알코올 평균 구하기\n",
    "al_df = df.groupby('continent')['total_litres_of_pure_alcohol'].mean()\n",
    "# 전체 알코올 평균 추가하기\n",
    "al_df['전체평균'] = df['total_litres_of_pure_alcohol'].mean()\n",
    "# 바 그래프 출력\n",
    "\n",
    "plt.plot(al_df.index, [al_df['전체평균']]*7, ls='--')\n",
    "plt.bar(al_df.index, al_df.values)[len(al_df)-1].set_color('red')\n",
    "plt.grid(axis='y', ls='--', alpha=0.5)\n",
    "plt.show()\n"
   ]
  },
  {
   "cell_type": "markdown",
   "metadata": {},
   "source": [
    "강사님 내용"
   ]
  },
  {
   "cell_type": "code",
   "execution_count": 7,
   "metadata": {},
   "outputs": [],
   "source": [
    "# ## 대륙별 total_litres_of_pure_alcohol 막대그래프로 출력하시오.\n",
    "# ## 마지막에는 평균 막대그래프를 출력하시오.\n",
    "# # 1. 전체 total_litres_of_pure_alcohol 평균을 구하기\n",
    "# data = df['total_litres_of_pure_alcohol'].mean()\n",
    "# n_data = [data]*6\n",
    "# # 2. 대륙별 total_litres_of_pure_alcohol 평균을 구하기\n",
    "# # 'AF', 'AS', 'EU', 'OC', 'OT', 'SA'\n",
    "# con_df = df.groupby('continent')['total_litres_of_pure_alcohol'].mean()\n",
    "# con_df\n",
    "# # 3. 컬럼에 대륙별 평균을 추가하기 mean\n",
    "# con_df['mean'] = data\n",
    "# # 4. 막대그래프를 출력\n",
    "# con_bar = plt.bar(con_df.index,con_df)\n",
    "# plt.plot(con_df.index,[data]*7,ls=\"--\",color='black')\n",
    "# plt.grid(axis='y',ls='--',alpha=0.5)  # 격자선\n",
    "# # con_bar[len(con_df)-1].set_color('red')\n",
    "# con_bar[len(con_df)-1].set_color('red')"
   ]
  }
 ],
 "metadata": {
  "kernelspec": {
   "display_name": "Python 3",
   "language": "python",
   "name": "python3"
  },
  "language_info": {
   "codemirror_mode": {
    "name": "ipython",
    "version": 3
   },
   "file_extension": ".py",
   "mimetype": "text/x-python",
   "name": "python",
   "nbconvert_exporter": "python",
   "pygments_lexer": "ipython3",
   "version": "3.12.6"
  }
 },
 "nbformat": 4,
 "nbformat_minor": 2
}
