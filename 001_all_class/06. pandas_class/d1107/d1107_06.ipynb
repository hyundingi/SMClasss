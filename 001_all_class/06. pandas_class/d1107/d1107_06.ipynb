{
 "cells": [
  {
   "cell_type": "code",
   "execution_count": null,
   "metadata": {},
   "outputs": [],
   "source": [
    "import pandas as pd\n",
    "\n",
    "# 상단 3개 삭제 후 가져오기\n",
    "# index > 행정기관 \n",
    "\n",
    "\n",
    "# usecols : 원하는 컬럼만 가져올 수 있음 'B,D,E' , 'B,E:Y', 'A:E'\n",
    "# 남자부분만 가져옴\n",
    "df = pd.read_excel('연령별인구현황01.xlsx', skiprows= 3, index_col = '행정기관', usecols = 'B,E:Y')\n",
    "df"
   ]
  },
  {
   "cell_type": "code",
   "execution_count": 48,
   "metadata": {},
   "outputs": [
    {
     "data": {
      "text/html": [
       "<div>\n",
       "<style scoped>\n",
       "    .dataframe tbody tr th:only-of-type {\n",
       "        vertical-align: middle;\n",
       "    }\n",
       "\n",
       "    .dataframe tbody tr th {\n",
       "        vertical-align: top;\n",
       "    }\n",
       "\n",
       "    .dataframe thead th {\n",
       "        text-align: right;\n",
       "    }\n",
       "</style>\n",
       "<table border=\"1\" class=\"dataframe\">\n",
       "  <thead>\n",
       "    <tr style=\"text-align: right;\">\n",
       "      <th></th>\n",
       "      <th>0~4세</th>\n",
       "      <th>5~9세</th>\n",
       "      <th>10~14세</th>\n",
       "      <th>15~19세</th>\n",
       "      <th>20~24세</th>\n",
       "      <th>25~29세</th>\n",
       "      <th>30~34세</th>\n",
       "      <th>35~39세</th>\n",
       "      <th>40~44세</th>\n",
       "      <th>45~49세</th>\n",
       "      <th>...</th>\n",
       "      <th>55~59세</th>\n",
       "      <th>60~64세</th>\n",
       "      <th>65~69세</th>\n",
       "      <th>70~74세</th>\n",
       "      <th>75~79세</th>\n",
       "      <th>80~84세</th>\n",
       "      <th>85~89세</th>\n",
       "      <th>90~94세</th>\n",
       "      <th>95~99세</th>\n",
       "      <th>100세 이상</th>\n",
       "    </tr>\n",
       "    <tr>\n",
       "      <th>행정기관</th>\n",
       "      <th></th>\n",
       "      <th></th>\n",
       "      <th></th>\n",
       "      <th></th>\n",
       "      <th></th>\n",
       "      <th></th>\n",
       "      <th></th>\n",
       "      <th></th>\n",
       "      <th></th>\n",
       "      <th></th>\n",
       "      <th></th>\n",
       "      <th></th>\n",
       "      <th></th>\n",
       "      <th></th>\n",
       "      <th></th>\n",
       "      <th></th>\n",
       "      <th></th>\n",
       "      <th></th>\n",
       "      <th></th>\n",
       "      <th></th>\n",
       "      <th></th>\n",
       "    </tr>\n",
       "  </thead>\n",
       "  <tbody>\n",
       "    <tr>\n",
       "      <th>전국</th>\n",
       "      <td>678,966</td>\n",
       "      <td>1,019,087</td>\n",
       "      <td>1,195,436</td>\n",
       "      <td>1,195,498</td>\n",
       "      <td>1,446,090</td>\n",
       "      <td>1,777,534</td>\n",
       "      <td>1,788,146</td>\n",
       "      <td>1,629,589</td>\n",
       "      <td>2,055,022</td>\n",
       "      <td>1,965,092</td>\n",
       "      <td>...</td>\n",
       "      <td>2,115,365</td>\n",
       "      <td>2,093,694</td>\n",
       "      <td>1,670,380</td>\n",
       "      <td>1,066,316</td>\n",
       "      <td>760,968</td>\n",
       "      <td>519,583</td>\n",
       "      <td>231,644</td>\n",
       "      <td>59,761</td>\n",
       "      <td>9,722</td>\n",
       "      <td>1,473</td>\n",
       "    </tr>\n",
       "  </tbody>\n",
       "</table>\n",
       "<p>1 rows × 21 columns</p>\n",
       "</div>"
      ],
      "text/plain": [
       "         0~4세       5~9세     10~14세     15~19세     20~24세     25~29세  \\\n",
       "행정기관                                                                   \n",
       "전국    678,966  1,019,087  1,195,436  1,195,498  1,446,090  1,777,534   \n",
       "\n",
       "         30~34세     35~39세     40~44세     45~49세  ...     55~59세     60~64세  \\\n",
       "행정기관                                              ...                         \n",
       "전국    1,788,146  1,629,589  2,055,022  1,965,092  ...  2,115,365  2,093,694   \n",
       "\n",
       "         65~69세     70~74세   75~79세   80~84세   85~89세  90~94세 95~99세 100세 이상  \n",
       "행정기관                                                                          \n",
       "전국    1,670,380  1,066,316  760,968  519,583  231,644  59,761  9,722   1,473  \n",
       "\n",
       "[1 rows x 21 columns]"
      ]
     },
     "execution_count": 48,
     "metadata": {},
     "output_type": "execute_result"
    }
   ],
   "source": [
    "# df[]  컬럼을 보는 명령어\n",
    "# df.iloc[번호] : row를 보는 명령어\n",
    "df.iloc[0]\n",
    "df.iloc[0].str.replace(',','').astype(int)\n",
    "# df[슬라이싱] : row를 보는 명령어\n",
    "df[0:1]\n",
    "# df.loc[이름] : row를 보는 명령어\n",
    "# df.index\n",
    "df.loc['전국  ']\n",
    "df[0:1]\n",
    "\n"
   ]
  },
  {
   "cell_type": "code",
   "execution_count": null,
   "metadata": {},
   "outputs": [
    {
     "name": "stderr",
     "output_type": "stream",
     "text": [
      "c:\\python\\Lib\\site-packages\\openpyxl\\styles\\stylesheet.py:237: UserWarning: Workbook contains no default style, apply openpyxl's default\n",
      "  warn(\"Workbook contains no default style, apply openpyxl's default\")\n"
     ]
    },
    {
     "data": {
      "text/plain": [
       "Index(['0~4세', '5~9세', '10~14세', '15~19세', '20~24세', '25~29세', '30~34세',\n",
       "       '35~39세', '40~44세', '45~49세', '50~54세', '55~59세', '60~64세', '65~69세',\n",
       "       '70~74세', '75~79세', '80~84세', '85~89세', '90~94세', '95~99세', '100세 이상'],\n",
       "      dtype='object')"
      ]
     },
     "execution_count": 49,
     "metadata": {},
     "output_type": "execute_result"
    }
   ],
   "source": [
    "### 남자부분만 가져옴\n",
    "### 여자부분만 가져와서 출력\n",
    "### 위 세개를 제외하고, 행정기관 index, 여자부분만 가져옴\n",
    "### [0] , 천단위 제거, 타입 int로 변경\n",
    "\n",
    "# 여자부분만 가져오기\n",
    "df_w = pd.read_excel('연령별인구현황01.xlsx', skiprows=3, index_col = '행정기관', usecols = 'B, AB:AV')\n",
    "df_w\n",
    "df.columns\n",
    "df_w['0~4세.1']\n",
    "\n",
    "# 여자컬럼과 남자컬럼명 다르기에 통일시킴\n",
    "df_w.columns = df.columns\n",
    "df_w.columns\n",
    "\n",
    "\n",
    "# 천단위 int 타입 변경\n",
    "df_w.iloc[0] = df_w.iloc[0].str.replace(',','').astype(int)\n",
    "df_w.iloc[0]\n",
    "\n"
   ]
  },
  {
   "cell_type": "code",
   "execution_count": null,
   "metadata": {},
   "outputs": [],
   "source": []
  }
 ],
 "metadata": {
  "kernelspec": {
   "display_name": "Python 3",
   "language": "python",
   "name": "python3"
  },
  "language_info": {
   "codemirror_mode": {
    "name": "ipython",
    "version": 3
   },
   "file_extension": ".py",
   "mimetype": "text/x-python",
   "name": "python",
   "nbconvert_exporter": "python",
   "pygments_lexer": "ipython3",
   "version": "3.12.6"
  }
 },
 "nbformat": 4,
 "nbformat_minor": 2
}
