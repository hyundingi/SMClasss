{
 "cells": [
  {
   "cell_type": "markdown",
   "metadata": {},
   "source": [
    "조건"
   ]
  },
  {
   "cell_type": "code",
   "execution_count": 9,
   "metadata": {},
   "outputs": [
    {
     "data": {
      "text/plain": [
       "지원번호\n",
       "1번     True\n",
       "2번    False\n",
       "3번    False\n",
       "4번     True\n",
       "5번     True\n",
       "6번     True\n",
       "7번     True\n",
       "8번     True\n",
       "Name: 키, dtype: bool"
      ]
     },
     "execution_count": 9,
     "metadata": {},
     "output_type": "execute_result"
    }
   ],
   "source": [
    "import pandas as pd\n",
    "\n",
    "df = pd.read_excel('score.xlsx',index_col='지원번호')\n",
    "df\n",
    "\n",
    "df[~(df['키']>=185)]\n",
    "\n",
    "\n",
    "# 같은 결과값 \n",
    "df[(df['키']>=185)]\n",
    "df.loc[df['키']>=185]\n",
    "df.loc[df['키']>=185, '이름']  # 키가 185 이상인 것의 이름컬럼만 출력\n",
    "\n",
    "df.loc[df['키']>=185, ['이름','키','SW특기']]\n",
    "df['키'] >= 185   # True, False 로 나옴"
   ]
  },
  {
   "cell_type": "markdown",
   "metadata": {},
   "source": [
    "조건식"
   ]
  },
  {
   "cell_type": "code",
   "execution_count": 12,
   "metadata": {},
   "outputs": [
    {
     "data": {
      "text/html": [
       "<div>\n",
       "<style scoped>\n",
       "    .dataframe tbody tr th:only-of-type {\n",
       "        vertical-align: middle;\n",
       "    }\n",
       "\n",
       "    .dataframe tbody tr th {\n",
       "        vertical-align: top;\n",
       "    }\n",
       "\n",
       "    .dataframe thead th {\n",
       "        text-align: right;\n",
       "    }\n",
       "</style>\n",
       "<table border=\"1\" class=\"dataframe\">\n",
       "  <thead>\n",
       "    <tr style=\"text-align: right;\">\n",
       "      <th></th>\n",
       "      <th>이름</th>\n",
       "      <th>학교</th>\n",
       "      <th>키</th>\n",
       "      <th>국어</th>\n",
       "      <th>영어</th>\n",
       "      <th>수학</th>\n",
       "      <th>사회</th>\n",
       "      <th>SW특기</th>\n",
       "    </tr>\n",
       "    <tr>\n",
       "      <th>지원번호</th>\n",
       "      <th></th>\n",
       "      <th></th>\n",
       "      <th></th>\n",
       "      <th></th>\n",
       "      <th></th>\n",
       "      <th></th>\n",
       "      <th></th>\n",
       "      <th></th>\n",
       "    </tr>\n",
       "  </thead>\n",
       "  <tbody>\n",
       "    <tr>\n",
       "      <th>5번</th>\n",
       "      <td>김재욱</td>\n",
       "      <td>가산고</td>\n",
       "      <td>188</td>\n",
       "      <td>15</td>\n",
       "      <td>20</td>\n",
       "      <td>10</td>\n",
       "      <td>10</td>\n",
       "      <td>NaN</td>\n",
       "    </tr>\n",
       "    <tr>\n",
       "      <th>6번</th>\n",
       "      <td>박동현</td>\n",
       "      <td>가산고</td>\n",
       "      <td>202</td>\n",
       "      <td>80</td>\n",
       "      <td>100</td>\n",
       "      <td>95</td>\n",
       "      <td>80</td>\n",
       "      <td>C</td>\n",
       "    </tr>\n",
       "  </tbody>\n",
       "</table>\n",
       "</div>"
      ],
      "text/plain": [
       "       이름   학교    키  국어   영어  수학  사회 SW특기\n",
       "지원번호                                     \n",
       "5번    김재욱  가산고  188  15   20  10  10  NaN\n",
       "6번    박동현  가산고  202  80  100  95  80    C"
      ]
     },
     "execution_count": 12,
     "metadata": {},
     "output_type": "execute_result"
    }
   ],
   "source": [
    "# 조건식 and &  or |\n",
    "filt = (df['키']>=185) & (df['학교'] == '가산고')\n",
    "df[filt]\n",
    "\n",
    "\n",
    "\n",
    "# 강사님 깃허브 참고"
   ]
  },
  {
   "cell_type": "markdown",
   "metadata": {},
   "source": [
    "문자열 (str) 조건"
   ]
  },
  {
   "cell_type": "code",
   "execution_count": null,
   "metadata": {},
   "outputs": [
    {
     "ename": "NameError",
     "evalue": "name 'df' is not defined",
     "output_type": "error",
     "traceback": [
      "\u001b[1;31m---------------------------------------------------------------------------\u001b[0m",
      "\u001b[1;31mNameError\u001b[0m                                 Traceback (most recent call last)",
      "Cell \u001b[1;32mIn[7], line 4\u001b[0m\n\u001b[0;32m      1\u001b[0m \u001b[38;5;66;03m### 강 / 김으로 시작되는 이름  : startswith\u001b[39;00m\n\u001b[0;32m      2\u001b[0m \u001b[38;5;66;03m## 문자열 endwith, strip, replace\u001b[39;00m\n\u001b[1;32m----> 4\u001b[0m filt \u001b[38;5;241m=\u001b[39m \u001b[43mdf\u001b[49m[\u001b[38;5;124m'\u001b[39m\u001b[38;5;124m이름\u001b[39m\u001b[38;5;124m'\u001b[39m]\u001b[38;5;241m.\u001b[39mstr\u001b[38;5;241m.\u001b[39mstartswith(\u001b[38;5;124m'\u001b[39m\u001b[38;5;124m강\u001b[39m\u001b[38;5;124m'\u001b[39m)     \n\u001b[0;32m      5\u001b[0m df[filt]\n\u001b[0;32m      6\u001b[0m df[df[\u001b[38;5;124m'\u001b[39m\u001b[38;5;124m이름\u001b[39m\u001b[38;5;124m'\u001b[39m]\u001b[38;5;241m.\u001b[39mstr\u001b[38;5;241m.\u001b[39mstartswith(\u001b[38;5;124m'\u001b[39m\u001b[38;5;124m김\u001b[39m\u001b[38;5;124m'\u001b[39m)]\n",
      "\u001b[1;31mNameError\u001b[0m: name 'df' is not defined"
     ]
    }
   ],
   "source": [
    "### 강 / 김으로 시작되는 이름  : startswith\n",
    "## 문자열 endwith, strip, replace\n",
    "\n",
    "filt = df['이름'].str.startswith('강')     \n",
    "df[filt]\n",
    "df[df['이름'].str.startswith('김')]\n",
    "\n",
    "\n",
    "# 수 가 포함되어 있는 이름을 검색\n",
    "filt = df['이름'].str.contains('수')\n",
    "df[filt]    \n",
    "df[~filt]   # 이름에 수가 안 들어가는 사람\n",
    "# df[df['이름'].str.startswith('근')]\n",
    "\n",
    "# 대소문자 변환\n",
    "df['SW특기'].str.lower()\n",
    "df['SW특기'].str.upper()\n",
    "\n",
    "df['SW특기']\n",
    "langs = ['Python', 'Java']\n",
    "## isin() : 리스트에 있는 단어가 포함되어 있는지 체크\n",
    "filt = df ['SW특기'].isin(langs)\n",
    "\n",
    "\n",
    "df[filt]\n",
    "\n",
    "\n",
    "# 소문자 치환\n",
    "langs = [['Python', ]]\n",
    "filt = df['SW특기'].str.lower().isin(langs)\n",
    "df[filt]\n",
    "\n",
    "\n",
    "\n",
    "# Java 라는 글자가 있는 지 체크\n",
    "# df[filt]\n",
    "\n",
    "filt = df['SW특기'].str.contains('Java')\n",
    "df['SW특기'].str.contains('Java', skipna=False)\n",
    "df[filt]\n",
    "\n",
    "df['SW특기'].str.lower().isin(langs)"
   ]
  },
  {
   "cell_type": "code",
   "execution_count": null,
   "metadata": {},
   "outputs": [],
   "source": [
    "\n"
   ]
  }
 ],
 "metadata": {
  "kernelspec": {
   "display_name": "Python 3",
   "language": "python",
   "name": "python3"
  },
  "language_info": {
   "codemirror_mode": {
    "name": "ipython",
    "version": 3
   },
   "file_extension": ".py",
   "mimetype": "text/x-python",
   "name": "python",
   "nbconvert_exporter": "python",
   "pygments_lexer": "ipython3",
   "version": "3.12.6"
  }
 },
 "nbformat": 4,
 "nbformat_minor": 2
}
