{
 "cells": [
  {
   "cell_type": "code",
   "execution_count": 5,
   "metadata": {},
   "outputs": [],
   "source": [
    "from selenium import webdriver\n",
    "from selenium.webdriver.common.by import By\n",
    "from selenium.webdriver.common.keys import Keys\n",
    "from selenium.webdriver.support.ui import WebDriverWait\n",
    "from selenium.webdriver.support import expected_conditions as EC\n",
    "import time\n",
    "import requests\n",
    "from bs4 import BeautifulSoup\n",
    "from selenium.webdriver.chrome.options import Options"
   ]
  },
  {
   "cell_type": "code",
   "execution_count": null,
   "metadata": {},
   "outputs": [
    {
     "name": "stdout",
     "output_type": "stream",
     "text": [
      "1----------------------\n",
      "['서울의 봄', 1312, '2023.11.22']\n",
      "2----------------------\n",
      "['범죄도시3', 1068, '2023.05.31']\n",
      "3----------------------\n",
      "['엘리멘탈', 724, '2023.06.14']\n",
      "4----------------------\n",
      "['스즈메의 문단속', 557, '2024.01.10']\n",
      "5----------------------\n",
      "['밀수', 514, '2023.07.26']\n",
      "6----------------------\n",
      "['더 퍼스트 슬램덩크', 488, '2023.01.04']\n",
      "7----------------------\n",
      "['가디언즈 오브 갤럭시: Volume 3', 420, '2023.05.03']\n",
      "8----------------------\n",
      "['미션 임파서블: 데드 레코닝 PART ONE', 402, '2023.07.12']\n",
      "9----------------------\n",
      "['콘크리트 유토피아', 384, '2023.08.09']\n",
      "10----------------------\n",
      "['아바타: 물의 길', 1080, '2022.12.14']\n",
      "11----------------------\n",
      "['노량: 죽음의 바다', 457, '2023.12.20']\n",
      "12----------------------\n",
      "['오펜하이머', 323, '2023.08.15']\n",
      "13----------------------\n",
      "['슈퍼 마리오 브라더스', 239, '2023.04.26']\n",
      "14----------------------\n",
      "['30일', 216, '2023.10.03']\n",
      "15----------------------\n",
      "['그대들은 어떻게 살 것인가', 201, '2023.10.25']\n",
      "16----------------------\n",
      "['존 윅 4', 192, '2023.04.12']\n",
      "17----------------------\n",
      "['천박사 퇴마 연구소: 설경의 비밀', 191, '2023.09.27']\n",
      "18----------------------\n",
      "['영웅', 327, '2022.12.21']\n",
      "19----------------------\n",
      "['분노의 질주: 라이드 오어 다이', 177, '2023.05.17']\n",
      "20----------------------\n",
      "['교섭', 172, '2023.01.18']\n",
      "21----------------------\n",
      "['앤트맨과 와스프: 퀀텀매니아', 155, '2023.02.15']\n",
      "22----------------------\n",
      "['잠', 147, '2023.09.06']\n",
      "23----------------------\n",
      "['달짝지근해: 7510', 138, '2023.08.15']\n",
      "24----------------------\n",
      "['드림', 112, '2023.04.26']\n",
      "25----------------------\n",
      "['비공식작전', 105, '2023.08.02']\n",
      "26----------------------\n",
      "['1947 보스톤', 102, '2023.09.27']\n",
      "27----------------------\n",
      "['스파이더맨: 어크로스 더 유니버스', 92, '2023.06.21']\n",
      "28----------------------\n",
      "['인디아나 존스: 운명의 다이얼', 86, '2023.06.28']\n",
      "29----------------------\n",
      "['장화신은 고양이: 끝내주는 모험', 83, '2023.01.04']\n",
      "30----------------------\n",
      "['명탐정 코난: 흑철의 어영', 80, '2023.07.20']\n"
     ]
    }
   ],
   "source": [
    "# 파일 저장\n",
    "topTitle = ['제목','관객수','날짜']\n",
    "\n",
    "# f.write('제목,관객수,날짜\\n')  # 1번만 글저장\n",
    "\n",
    "# 웹스크래핑 시작\n",
    "for syear in range(2020, 2024):\n",
    "  f = open('screens.csv', 'a', encoding='utf-8')\n",
    "  with open(f'screen{syear}.html', 'r', encoding='utf-8') as f:\n",
    "    soup = BeautifulSoup(f, 'lxml')\n",
    "\n",
    "    # 기준점\n",
    "    data = soup.select_one('#mor_history_id_0')\n",
    "    screens = data.select('li')\n",
    "    for i, screen in enumerate(screens):\n",
    "      print(f'{i+1}----------------------')\n",
    "      title = screens[i].select_one('.tit-g.clamp-g').text.strip()\n",
    "      s_img = screens[i].select_one('.wrap_thumb img')['src']\n",
    "      number = int(screens[i].select_one('.conts-desc.clamp-g').text.strip()[3:-2].replace(',',''))\n",
    "      sdate = screens[i].select_one('.conts-subdesc.clamp-g').text.strip()[:-1]\n",
    "      # print('제목 : ', title)\n",
    "      # print('이미지 : ', s_img)\n",
    "      # print('관객 수 : ', number)\n",
    "      # print('날짜 : ', sdate)\n",
    "\n",
    "      s_list = [title,number,sdate]\n",
    "      print(s_list)\n",
    "f.close()"
   ]
  },
  {
   "cell_type": "code",
   "execution_count": null,
   "metadata": {},
   "outputs": [],
   "source": [
    "\n"
   ]
  }
 ],
 "metadata": {
  "kernelspec": {
   "display_name": "Python 3",
   "language": "python",
   "name": "python3"
  },
  "language_info": {
   "codemirror_mode": {
    "name": "ipython",
    "version": 3
   },
   "file_extension": ".py",
   "mimetype": "text/x-python",
   "name": "python",
   "nbconvert_exporter": "python",
   "pygments_lexer": "ipython3",
   "version": "3.12.6"
  }
 },
 "nbformat": 4,
 "nbformat_minor": 2
}
