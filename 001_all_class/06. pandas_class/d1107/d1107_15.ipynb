{
 "cells": [
  {
   "cell_type": "code",
   "execution_count": 114,
   "metadata": {},
   "outputs": [
    {
     "name": "stderr",
     "output_type": "stream",
     "text": [
      "c:\\python\\Lib\\site-packages\\openpyxl\\styles\\stylesheet.py:237: UserWarning: Workbook contains no default style, apply openpyxl's default\n",
      "  warn(\"Workbook contains no default style, apply openpyxl's default\")\n"
     ]
    },
    {
     "data": {
      "text/plain": [
       "0~4세         678,966\n",
       "5~9세       1,019,087\n",
       "10~14세     1,195,436\n",
       "15~19세     1,195,498\n",
       "20~24세     1,446,090\n",
       "25~29세     1,777,534\n",
       "30~34세     1,788,146\n",
       "35~39세     1,629,589\n",
       "40~44세     2,055,022\n",
       "45~49세     1,965,092\n",
       "50~54세     2,279,578\n",
       "55~59세     2,115,365\n",
       "60~64세     2,093,694\n",
       "65~69세     1,670,380\n",
       "70~74세     1,066,316\n",
       "75~79세       760,968\n",
       "80~84세       519,583\n",
       "85~89세       231,644\n",
       "90~94세        59,761\n",
       "95~99세         9,722\n",
       "100세 이상        1,473\n",
       "Name: 전국, dtype: object"
      ]
     },
     "execution_count": 114,
     "metadata": {},
     "output_type": "execute_result"
    }
   ],
   "source": [
    "import pandas as pd\n",
    "import numpy as np\n",
    "\n",
    "df = pd.read_excel('연령별인구현황01.xlsx', skiprows=3, nrows=1, usecols='B,E:Y', index_col=0)\n",
    "df.index\n",
    "df.loc['전국  '] \n",
    "\n",
    "## 빈공백 제거\n",
    "df.index[0].strip()\n",
    "\n",
    "## index 1번째 row 데이터를 출력\n",
    "df.loc[df.index[0]]   # == df.loc['전국  '] \n",
    "\n",
    "\n",
    "# index 이름을 변경\n",
    "df.rename(index={df.index[0]:df.index[0].strip()}, inplace=True)\n",
    "df.index\n",
    "\n",
    "df.loc['전국']\n"
   ]
  },
  {
   "cell_type": "code",
   "execution_count": 115,
   "metadata": {},
   "outputs": [
    {
     "name": "stdout",
     "output_type": "stream",
     "text": [
      "<class 'pandas.core.frame.DataFrame'>\n",
      "Index: 1 entries, 전국 to 전국\n",
      "Data columns (total 21 columns):\n",
      " #   Column   Non-Null Count  Dtype \n",
      "---  ------   --------------  ----- \n",
      " 0   0~4세     1 non-null      object\n",
      " 1   5~9세     1 non-null      object\n",
      " 2   10~14세   1 non-null      object\n",
      " 3   15~19세   1 non-null      object\n",
      " 4   20~24세   1 non-null      object\n",
      " 5   25~29세   1 non-null      object\n",
      " 6   30~34세   1 non-null      object\n",
      " 7   35~39세   1 non-null      object\n",
      " 8   40~44세   1 non-null      object\n",
      " 9   45~49세   1 non-null      object\n",
      " 10  50~54세   1 non-null      object\n",
      " 11  55~59세   1 non-null      object\n",
      " 12  60~64세   1 non-null      object\n",
      " 13  65~69세   1 non-null      object\n",
      " 14  70~74세   1 non-null      object\n",
      " 15  75~79세   1 non-null      object\n",
      " 16  80~84세   1 non-null      object\n",
      " 17  85~89세   1 non-null      object\n",
      " 18  90~94세   1 non-null      object\n",
      " 19  95~99세   1 non-null      object\n",
      " 20  100세 이상  1 non-null      object\n",
      "dtypes: object(21)\n",
      "memory usage: 284.0+ bytes\n"
     ]
    },
    {
     "data": {
      "text/plain": [
       "2279578"
      ]
     },
     "execution_count": 115,
     "metadata": {},
     "output_type": "execute_result"
    }
   ],
   "source": [
    "df.iloc[0] = df.iloc[0].str.replace(',','').astype(int)\n",
    "df.info()\n",
    "df = df.T\n",
    "df['전국'].describe()\n",
    "df['전국'].min()\n",
    "df['전국'].max()\n",
    "\n"
   ]
  },
  {
   "cell_type": "markdown",
   "metadata": {},
   "source": [
    "이름 변경\n",
    "출생아 수 > 최대값 최소값 출력\n",
    "축 변경"
   ]
  },
  {
   "cell_type": "code",
   "execution_count": 118,
   "metadata": {},
   "outputs": [
    {
     "name": "stderr",
     "output_type": "stream",
     "text": [
      "c:\\python\\Lib\\site-packages\\openpyxl\\styles\\stylesheet.py:237: UserWarning: Workbook contains no default style, apply openpyxl's default\n",
      "  warn(\"Workbook contains no default style, apply openpyxl's default\")\n"
     ]
    },
    {
     "data": {
      "text/plain": [
       "np.float64(438.4)"
      ]
     },
     "execution_count": 118,
     "metadata": {},
     "output_type": "execute_result"
    }
   ],
   "source": [
    "df = pd.read_excel('출산율2.xlsx', skiprows=2, nrows=2, index_col = 0)\n",
    "df.index.values\n",
    "df.rename({'출생아\\xa0수':'출생아 수', '합계\\xa0출산율':'합계 출산율'}, inplace=True)\n",
    "df.index\n",
    "df = df.T\n",
    "# df.columns['출생아 수']\n",
    "df['출생아 수'].min()\n",
    "df['출생아 수'].max()"
   ]
  },
  {
   "cell_type": "code",
   "execution_count": 119,
   "metadata": {},
   "outputs": [
    {
     "data": {
      "text/html": [
       "<div>\n",
       "<style scoped>\n",
       "    .dataframe tbody tr th:only-of-type {\n",
       "        vertical-align: middle;\n",
       "    }\n",
       "\n",
       "    .dataframe tbody tr th {\n",
       "        vertical-align: top;\n",
       "    }\n",
       "\n",
       "    .dataframe thead th {\n",
       "        text-align: right;\n",
       "    }\n",
       "</style>\n",
       "<table border=\"1\" class=\"dataframe\">\n",
       "  <thead>\n",
       "    <tr style=\"text-align: right;\">\n",
       "      <th></th>\n",
       "      <th>출생아 수</th>\n",
       "      <th>합계 출산율</th>\n",
       "    </tr>\n",
       "  </thead>\n",
       "  <tbody>\n",
       "    <tr>\n",
       "      <th>2014</th>\n",
       "      <td>435.4</td>\n",
       "      <td>1.205</td>\n",
       "    </tr>\n",
       "    <tr>\n",
       "      <th>2015</th>\n",
       "      <td>438.4</td>\n",
       "      <td>1.239</td>\n",
       "    </tr>\n",
       "    <tr>\n",
       "      <th>2016</th>\n",
       "      <td>406.2</td>\n",
       "      <td>1.172</td>\n",
       "    </tr>\n",
       "    <tr>\n",
       "      <th>2017</th>\n",
       "      <td>357.8</td>\n",
       "      <td>1.052</td>\n",
       "    </tr>\n",
       "  </tbody>\n",
       "</table>\n",
       "</div>"
      ],
      "text/plain": [
       "      출생아 수  합계 출산율\n",
       "2014  435.4   1.205\n",
       "2015  438.4   1.239\n",
       "2016  406.2   1.172\n",
       "2017  357.8   1.052"
      ]
     },
     "execution_count": 119,
     "metadata": {},
     "output_type": "execute_result"
    }
   ],
   "source": [
    "filt = (df['출생아 수'] >= 300) & (df['합계 출산율']>1)\n",
    "df[filt]"
   ]
  }
 ],
 "metadata": {
  "kernelspec": {
   "display_name": "Python 3",
   "language": "python",
   "name": "python3"
  },
  "language_info": {
   "codemirror_mode": {
    "name": "ipython",
    "version": 3
   },
   "file_extension": ".py",
   "mimetype": "text/x-python",
   "name": "python",
   "nbconvert_exporter": "python",
   "pygments_lexer": "ipython3",
   "version": "3.12.6"
  }
 },
 "nbformat": 4,
 "nbformat_minor": 2
}
