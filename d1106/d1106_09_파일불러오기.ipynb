{
 "cells": [
  {
   "cell_type": "markdown",
   "metadata": {},
   "source": [
    "파일 읽어오기"
   ]
  },
  {
   "cell_type": "code",
   "execution_count": null,
   "metadata": {},
   "outputs": [],
   "source": [
    "import pandas as pd\n",
    "\n",
    "# csv 파일 열기\n",
    "# 첫번째 줄을 제외하고 가져옴\n",
    "# df = pd.read_csv('score.csv', skiprows = 1)\n",
    "\n",
    "# 두 줄을 제외하ㅓ고 가져옴\n",
    "f = pd.read_csv ('score.csv', nrows = 4)\n",
    "\n",
    "# 1 3 5 번째 줄 제외하고 가져오기\n",
    "df = pd.read_csv('score.csv', skiprows= [1,3,5])\n",
    "\n",
    "# 처음 줄 제외ㅣ, 4개 데이터 가져오기\n",
    "df = pd.read_csv ('score.csv', skiprows= 2, nrows=4 )\n",
    "\n",
    "\n",
    "df"
   ]
  },
  {
   "cell_type": "markdown",
   "metadata": {},
   "source": [
    "txt 파일 열기"
   ]
  },
  {
   "cell_type": "code",
   "execution_count": null,
   "metadata": {},
   "outputs": [],
   "source": [
    "\n",
    "df = pd.read_csv ('score.txt')\n",
    "\n",
    "# '\\t' 구분자를 사용해서 가져오기\n",
    "#df = pd.read_csv ('score.txt', sep='\\t')\n",
    "\n",
    "# index 지정해서 가져오기\n",
    "df = pd.read_csv('score.txt', index_col='지원번호')\n",
    "df['이름']\n"
   ]
  },
  {
   "cell_type": "markdown",
   "metadata": {},
   "source": [
    "엑셀 파일 불러오기"
   ]
  },
  {
   "cell_type": "code",
   "execution_count": 26,
   "metadata": {},
   "outputs": [
    {
     "data": {
      "text/html": [
       "<div>\n",
       "<style scoped>\n",
       "    .dataframe tbody tr th:only-of-type {\n",
       "        vertical-align: middle;\n",
       "    }\n",
       "\n",
       "    .dataframe tbody tr th {\n",
       "        vertical-align: top;\n",
       "    }\n",
       "\n",
       "    .dataframe thead th {\n",
       "        text-align: right;\n",
       "    }\n",
       "</style>\n",
       "<table border=\"1\" class=\"dataframe\">\n",
       "  <thead>\n",
       "    <tr style=\"text-align: right;\">\n",
       "      <th></th>\n",
       "      <th>1번</th>\n",
       "      <th>강나래</th>\n",
       "      <th>구로고</th>\n",
       "      <th>197</th>\n",
       "      <th>90</th>\n",
       "      <th>85</th>\n",
       "      <th>100</th>\n",
       "      <th>85.1</th>\n",
       "      <th>Python</th>\n",
       "    </tr>\n",
       "  </thead>\n",
       "  <tbody>\n",
       "    <tr>\n",
       "      <th>0</th>\n",
       "      <td>2번</td>\n",
       "      <td>강태원</td>\n",
       "      <td>구로고</td>\n",
       "      <td>184</td>\n",
       "      <td>40</td>\n",
       "      <td>35</td>\n",
       "      <td>50</td>\n",
       "      <td>25</td>\n",
       "      <td>Java</td>\n",
       "    </tr>\n",
       "    <tr>\n",
       "      <th>1</th>\n",
       "      <td>3번</td>\n",
       "      <td>강호림</td>\n",
       "      <td>가산고</td>\n",
       "      <td>168</td>\n",
       "      <td>80</td>\n",
       "      <td>75</td>\n",
       "      <td>70</td>\n",
       "      <td>75</td>\n",
       "      <td>Javascript</td>\n",
       "    </tr>\n",
       "    <tr>\n",
       "      <th>2</th>\n",
       "      <td>4번</td>\n",
       "      <td>김수찬</td>\n",
       "      <td>구로고</td>\n",
       "      <td>187</td>\n",
       "      <td>40</td>\n",
       "      <td>60</td>\n",
       "      <td>70</td>\n",
       "      <td>80</td>\n",
       "      <td></td>\n",
       "    </tr>\n",
       "  </tbody>\n",
       "</table>\n",
       "</div>"
      ],
      "text/plain": [
       "   1번  강나래  구로고  197  90  85  100  85.1      Python\n",
       "0  2번  강태원  구로고  184  40  35   50    25        Java\n",
       "1  3번  강호림  가산고  168  80  75   70    75  Javascript\n",
       "2  4번  김수찬  구로고  187  40  60   70    80            "
      ]
     },
     "execution_count": 26,
     "metadata": {},
     "output_type": "execute_result"
    }
   ],
   "source": [
    "df = pd.read_excel ('score.xlsx', skiprows=1, nrows=3)\n",
    "\n",
    "# index 지정해서 불러오기\n",
    "# df = pd.read_excel ('score.xlsx', index_col = '지원번호' )\n",
    "\n",
    "# 불러와서 index 저장하기\n",
    "# df = pd.read_excel('score.xlsx')\n",
    "# df.set_index('지원번호', inplace=True)\n",
    "df"
   ]
  }
 ],
 "metadata": {
  "kernelspec": {
   "display_name": "Python 3",
   "language": "python",
   "name": "python3"
  },
  "language_info": {
   "codemirror_mode": {
    "name": "ipython",
    "version": 3
   },
   "file_extension": ".py",
   "mimetype": "text/x-python",
   "name": "python",
   "nbconvert_exporter": "python",
   "pygments_lexer": "ipython3",
   "version": "3.12.6"
  }
 },
 "nbformat": 4,
 "nbformat_minor": 2
}
