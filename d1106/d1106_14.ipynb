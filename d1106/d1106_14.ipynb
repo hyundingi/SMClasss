{
 "cells": [
  {
   "cell_type": "markdown",
   "metadata": {},
   "source": [
    "[영화순위]\n",
    "1. 2020년 ~ 2023년 영화\n",
    "제목 / 관객수 : 숫자입력 / 날짜\n",
    "csv 파일로 저장\n",
    "이미지저장\n",
    "\n",
    "2. dataframe 변경\n",
    "관객수 최대값 / 최소값 / 평균 / 최대관객수 5개 / 최소관객수 5개 출력"
   ]
  },
  {
   "cell_type": "code",
   "execution_count": null,
   "metadata": {},
   "outputs": [],
   "source": [
    "import pandas as pd\n",
    "\n"
   ]
  }
 ],
 "metadata": {
  "language_info": {
   "name": "python"
  }
 },
 "nbformat": 4,
 "nbformat_minor": 2
}
